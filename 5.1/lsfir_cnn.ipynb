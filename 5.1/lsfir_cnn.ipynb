{
 "cells": [
  {
   "cell_type": "code",
   "execution_count": 1,
   "metadata": {},
   "outputs": [],
   "source": [
    "import torch\n",
    "import torch.nn as nn\n",
    "import torch.nn.functional as F\n",
    "from PIL import Image\n",
    "import matplotlib.pyplot as plt\n",
    "import numpy as np\n",
    "import os\n",
    "import time"
   ]
  },
  {
   "cell_type": "code",
   "execution_count": 2,
   "id": "a5fb2f69",
   "metadata": {},
   "outputs": [
    {
     "name": "stdout",
     "output_type": "stream",
     "text": [
      "Device: cuda:0\n"
     ]
    }
   ],
   "source": [
    "#device configuration\n",
    "device = torch.device(\"cuda:0\" if torch.cuda.is_available() else \"cpu\")\n",
    "print(\"Device:\", device)"
   ]
  },
  {
   "cell_type": "code",
   "execution_count": 3,
   "id": "2945f631",
   "metadata": {},
   "outputs": [],
   "source": [
    "#preproccessing images\n",
    "def read_images(path, num_images):\n",
    "    array = np.zeros([num_images, 64*32])\n",
    "    i = 0\n",
    "    for image in os.listdir(path):\n",
    "        img_path =  path +  \"\\\\\" + image\n",
    "        image =  Image.open(img_path, mode= \"r\")\n",
    "        data = np.asarray(image, dtype= \"uint8\")\n",
    "        data = data.flatten()\n",
    "        array[i,:] = data\n",
    "        i += 1\n",
    "    return array\n",
    "\n",
    "#read negative\n",
    "train_neg_path = r\"C:\\Users\\yagiz\\Desktop\\data\\LSIFIR\\Classification\\Train\\neg\"\n",
    "num_train_neg_images = 43390\n",
    "\n",
    "train_neg_array = read_images(train_neg_path, num_train_neg_images)"
   ]
  },
  {
   "cell_type": "code",
   "execution_count": 4,
   "id": "99f6e4a5",
   "metadata": {},
   "outputs": [
    {
     "name": "stdout",
     "output_type": "stream",
     "text": [
      "x_train_neg_tensor:  torch.Size([43390, 2048])\n",
      "torch.Size([43390])\n"
     ]
    }
   ],
   "source": [
    "#negative tensors\n",
    "x_train_neg_tensor = torch.from_numpy(train_neg_array)\n",
    "print(\"x_train_neg_tensor: \", x_train_neg_tensor.size())\n",
    "\n",
    "y_train_neg_tensor = torch.zeros(num_train_neg_images, dtype=torch.long)\n",
    "print(y_train_neg_tensor.size())\n"
   ]
  },
  {
   "cell_type": "code",
   "execution_count": 5,
   "id": "13d5a2a1",
   "metadata": {},
   "outputs": [],
   "source": [
    "#read positives\n",
    "train_pos_path = r\"C:\\Users\\yagiz\\Desktop\\data\\LSIFIR\\Classification\\Train\\pos\"\n",
    "num_train_pos_images = 10208\n",
    "train_pos_array = read_images(train_pos_path, num_train_pos_images)\n"
   ]
  },
  {
   "cell_type": "code",
   "execution_count": 8,
   "id": "2dff1c68",
   "metadata": {},
   "outputs": [
    {
     "name": "stdout",
     "output_type": "stream",
     "text": [
      "x_train_pos_tensor:  torch.Size([10208, 2048])\n",
      "y_train_pos_tensor:  torch.Size([10208])\n"
     ]
    }
   ],
   "source": [
    "x_train_pos_tensor = torch.from_numpy(train_pos_array)\n",
    "print(\"x_train_pos_tensor: \", x_train_pos_tensor.size())\n",
    "\n",
    "y_train_pos_tensor = torch.ones(num_train_pos_images, dtype=torch.long)\n",
    "print(\"y_train_pos_tensor: \", y_train_pos_tensor.size())"
   ]
  },
  {
   "cell_type": "code",
   "execution_count": 10,
   "id": "61ec480a",
   "metadata": {},
   "outputs": [
    {
     "name": "stdout",
     "output_type": "stream",
     "text": [
      "x train:  torch.Size([53598, 2048])\n",
      "y train:  torch.Size([53598])\n"
     ]
    }
   ],
   "source": [
    "#concat train\n",
    "x_train = torch.cat((x_train_neg_tensor, x_train_pos_tensor), 0)\n",
    "y_train = torch.cat((y_train_neg_tensor, y_train_pos_tensor), 0)\n",
    "print(\"x train: \", x_train.size())\n",
    "print(\"y train: \", y_train.size())"
   ]
  },
  {
   "cell_type": "code",
   "execution_count": 13,
   "id": "b479b542",
   "metadata": {},
   "outputs": [
    {
     "name": "stdout",
     "output_type": "stream",
     "text": [
      "x_test_negative_tensor:  torch.Size([20855, 2048])\n",
      "y_test_neg_tensor:  torch.Size([20855])\n",
      "x_test_pos_tensor:  torch.Size([5944, 2048])\n",
      "y_test_pos_tensor:  torch.Size([5944])\n",
      "x_test:  torch.Size([26799, 2048])\n",
      "y_test:  torch.Size([26799])\n"
     ]
    }
   ],
   "source": [
    "#test images\n",
    "#reading test negatives\n",
    "test_neg_path = r\"C:\\Users\\yagiz\\Desktop\\data\\LSIFIR\\Classification\\Test\\neg\"\n",
    "num_test_neg_images = 22050\n",
    "test_negative_array = read_images(test_neg_path, num_test_neg_images)\n",
    "x_test_neg_tensor = torch.from_numpy(test_negative_array[:20855,:])\n",
    "print(\"x_test_negative_tensor: \", x_test_neg_tensor.size())\n",
    "y_test_neg_tensor = torch.ones(20855, dtype= torch.long)\n",
    "print(\"y_test_neg_tensor: \", y_test_neg_tensor.size())\n",
    "\n",
    "#reading test positives\n",
    "test_pos_path = r\"C:\\Users\\yagiz\\Desktop\\data\\LSIFIR\\Classification\\Test\\pos\"\n",
    "num_test_pos_images = 5944\n",
    "test_pos_array = read_images(test_pos_path, num_test_pos_images)\n",
    "x_test_pos_tensor = torch.from_numpy(test_pos_array)\n",
    "print(\"x_test_pos_tensor: \", x_test_pos_tensor.size())\n",
    "y_test_pos_tensor = torch.ones(num_test_pos_images, dtype=torch.long)\n",
    "print(\"y_test_pos_tensor: \", y_test_pos_tensor.size())\n",
    "\n",
    "#concat test\n",
    "x_test = torch.cat((x_test_neg_tensor, x_test_pos_tensor), 0)\n",
    "y_test = torch.cat((y_test_neg_tensor, y_test_pos_tensor), 0)\n",
    "print(\"x_test: \", x_test.size())\n",
    "print(\"y_test: \", y_test.size())"
   ]
  },
  {
   "cell_type": "code",
   "execution_count": 14,
   "id": "47d0c70a",
   "metadata": {},
   "outputs": [
    {
     "data": {
      "text/plain": [
       "<matplotlib.image.AxesImage at 0x1d096d7cc10>"
      ]
     },
     "execution_count": 14,
     "metadata": {},
     "output_type": "execute_result"
    },
    {
     "data": {
      "image/png": "[encoded data removed]",
      "text/plain": [
       "<Figure size 432x288 with 1 Axes>"
      ]
     },
     "metadata": {
      "needs_background": "light"
     },
     "output_type": "display_data"
    }
   ],
   "source": [
    "#visualizing\n",
    "plt.imshow(x_train[45001,:].reshape(64, 32), cmap=\"gray\")"
   ]
  },
  {
   "cell_type": "code",
   "execution_count": 31,
   "id": "232d4d52",
   "metadata": {},
   "outputs": [],
   "source": [
    "#CNN IMPLEMENTING\n",
    "\n",
    "# -> Hyper Parameters\n",
    "num_epochs = 5000\n",
    "num_classes = 2\n",
    "batch_size = 6\n",
    "batch_size_t = 2\n",
    "learning_rate = 0.00001\n",
    "\n",
    "class Net(nn.Module):\n",
    "    \n",
    "    def __init__(self) -> None:\n",
    "        super(Net, self).__init__()\n",
    "\n",
    "        self.conv1 = nn.Conv2d(1, 10, 5)\n",
    "        self.pool = nn.MaxPool2d(2, 2)\n",
    "        self.conv2 = nn.Conv2d(10, 16, 5)\n",
    "\n",
    "        self.fc1 = nn.Linear(16*13*5, 520) ## image is downscaled to 13 x 5 from 64 x 32. And we have 16 feature maps (last conv2d)\n",
    "        self.fc2 = nn.Linear(520, 130)\n",
    "        self.fc3 = nn.Linear(130, num_classes)\n",
    "\n",
    "    def forward(self, x):\n",
    "\n",
    "        x = self.pool(F.relu(self.conv1(x)))\n",
    "        x = self.pool(F.relu(self.conv2(x)))\n",
    "\n",
    "        x = x.view(-1, 16*5*13)\n",
    "\n",
    "        x = F.relu(self.fc1(x))\n",
    "        x = F.relu(self.fc2(x))\n",
    "        x = self.fc3(x)\n",
    "\n",
    "        return x\n",
    "        "
   ]
  },
  {
   "cell_type": "code",
   "execution_count": 32,
   "id": "1d1721d7",
   "metadata": {},
   "outputs": [],
   "source": [
    "#matching labels and data >>>>>>>>\n",
    "train = torch.utils.data.TensorDataset(x_train, y_train)\n",
    "trainloader = torch.utils.data.DataLoader(train, batch_size = batch_size, shuffle = True)\n",
    "\n",
    "test = torch.utils.data.TensorDataset(x_test, y_test)\n",
    "testloader = torch.utils.data.DataLoader(test, batch_size = batch_size_t, shuffle = False)"
   ]
  },
  {
   "cell_type": "code",
   "execution_count": 26,
   "id": "647e46ae",
   "metadata": {},
   "outputs": [],
   "source": [
    "#calling net\n",
    "net = Net().to(device=device)\n",
    "\n",
    "#loss and optimizer\n",
    "criteria = nn.CrossEntropyLoss()\n",
    "\n",
    "import torch.optim as optim\n",
    "optimizer = optim.SGD(net.parameters(), lr=learning_rate, momentum=0.8)\n"
   ]
  },
  {
   "cell_type": "code",
   "execution_count": 37,
   "id": "d143fff5",
   "metadata": {},
   "outputs": [
    {
     "name": "stdout",
     "output_type": "stream",
     "text": [
      "Accuracy test:  0.0\n",
      "Accuracy train:  0.0\n",
      "Accuracy test:  0.0\n",
      "Accuracy train:  0.0\n"
     ]
    },
    {
     "ename": "KeyboardInterrupt",
     "evalue": "",
     "output_type": "error",
     "traceback": [
      "\u001b[1;31m---------------------------------------------------------------------------\u001b[0m",
      "\u001b[1;31mKeyboardInterrupt\u001b[0m                         Traceback (most recent call last)",
      "\u001b[1;32m~\\AppData\\Local\\Temp/ipykernel_2776/3763348675.py\u001b[0m in \u001b[0;36m<module>\u001b[1;34m\u001b[0m\n\u001b[0;32m     20\u001b[0m                 \u001b[0minputs\u001b[0m\u001b[1;33m,\u001b[0m \u001b[0mlabels\u001b[0m  \u001b[1;33m=\u001b[0m \u001b[0minputs\u001b[0m\u001b[1;33m.\u001b[0m\u001b[0mto\u001b[0m\u001b[1;33m(\u001b[0m\u001b[0mdevice\u001b[0m\u001b[1;33m)\u001b[0m\u001b[1;33m,\u001b[0m \u001b[0mlabels\u001b[0m\u001b[1;33m.\u001b[0m\u001b[0mto\u001b[0m\u001b[1;33m(\u001b[0m\u001b[0mdevice\u001b[0m\u001b[1;33m)\u001b[0m\u001b[1;33m\u001b[0m\u001b[1;33m\u001b[0m\u001b[0m\n\u001b[0;32m     21\u001b[0m \u001b[1;33m\u001b[0m\u001b[0m\n\u001b[1;32m---> 22\u001b[1;33m         \u001b[0moptimizer\u001b[0m\u001b[1;33m.\u001b[0m\u001b[0mzero_grad\u001b[0m\u001b[1;33m(\u001b[0m\u001b[1;33m)\u001b[0m \u001b[1;31m## zero gradient --gradients are being summed, we want them to be zero for every epoch\u001b[0m\u001b[1;33m\u001b[0m\u001b[1;33m\u001b[0m\u001b[0m\n\u001b[0m\u001b[0;32m     23\u001b[0m         \u001b[0moutputs\u001b[0m \u001b[1;33m=\u001b[0m \u001b[0mnet\u001b[0m\u001b[1;33m(\u001b[0m\u001b[0minputs\u001b[0m\u001b[1;33m)\u001b[0m \u001b[1;31m## forward prediction\u001b[0m\u001b[1;33m\u001b[0m\u001b[1;33m\u001b[0m\u001b[0m\n\u001b[0;32m     24\u001b[0m         \u001b[0mloss\u001b[0m \u001b[1;33m=\u001b[0m \u001b[0mcriteria\u001b[0m\u001b[1;33m(\u001b[0m\u001b[0moutputs\u001b[0m\u001b[1;33m,\u001b[0m \u001b[0mlabels\u001b[0m\u001b[1;33m)\u001b[0m \u001b[1;31m## calculating loss\u001b[0m\u001b[1;33m\u001b[0m\u001b[1;33m\u001b[0m\u001b[0m\n",
      "\u001b[1;32m~\\AppData\\Local\\Programs\\Python\\Python38\\lib\\site-packages\\torch\\optim\\optimizer.py\u001b[0m in \u001b[0;36mzero_grad\u001b[1;34m(self, set_to_none)\u001b[0m\n\u001b[0;32m    215\u001b[0m                             \u001b[1;32melse\u001b[0m\u001b[1;33m:\u001b[0m\u001b[1;33m\u001b[0m\u001b[1;33m\u001b[0m\u001b[0m\n\u001b[0;32m    216\u001b[0m                                 \u001b[0mp\u001b[0m\u001b[1;33m.\u001b[0m\u001b[0mgrad\u001b[0m\u001b[1;33m.\u001b[0m\u001b[0mrequires_grad_\u001b[0m\u001b[1;33m(\u001b[0m\u001b[1;32mFalse\u001b[0m\u001b[1;33m)\u001b[0m\u001b[1;33m\u001b[0m\u001b[1;33m\u001b[0m\u001b[0m\n\u001b[1;32m--> 217\u001b[1;33m                             \u001b[0mp\u001b[0m\u001b[1;33m.\u001b[0m\u001b[0mgrad\u001b[0m\u001b[1;33m.\u001b[0m\u001b[0mzero_\u001b[0m\u001b[1;33m(\u001b[0m\u001b[1;33m)\u001b[0m\u001b[1;33m\u001b[0m\u001b[1;33m\u001b[0m\u001b[0m\n\u001b[0m\u001b[0;32m    218\u001b[0m \u001b[1;33m\u001b[0m\u001b[0m\n\u001b[0;32m    219\u001b[0m     \u001b[1;32mdef\u001b[0m \u001b[0mstep\u001b[0m\u001b[1;33m(\u001b[0m\u001b[0mself\u001b[0m\u001b[1;33m,\u001b[0m \u001b[0mclosure\u001b[0m\u001b[1;33m)\u001b[0m\u001b[1;33m:\u001b[0m\u001b[1;33m\u001b[0m\u001b[1;33m\u001b[0m\u001b[0m\n",
      "\u001b[1;31mKeyboardInterrupt\u001b[0m: "
     ]
    }
   ],
   "source": [
    "#training the neural network\n",
    "\n",
    "start_time = time.time()\n",
    "\n",
    "train_accuracy = []\n",
    "test_accuracy = []\n",
    "loss_list = []\n",
    "\n",
    "use_gpu = True\n",
    "\n",
    "for epoch in range(num_epochs):\n",
    "    for i, data in enumerate(trainloader, 0):\n",
    "\n",
    "        inputs, labels = data\n",
    "        inputs = inputs.view(batch_size, 1, 64, 32) #reshaping\n",
    "        inputs = inputs.float()\n",
    "\n",
    "        if use_gpu:\n",
    "            if torch.cuda.is_available():\n",
    "                inputs, labels  = inputs.to(device), labels.to(device)\n",
    "\n",
    "        optimizer.zero_grad() ## zero gradient --gradients are being summed, we want them to be zero for every epoch\n",
    "        outputs = net(inputs) ## forward prediction\n",
    "        loss = criteria(outputs, labels) ## calculating loss\n",
    "        #back propogation >>> loss.backward\n",
    "        loss.backward()\n",
    "        optimizer.step() ## update weights\n",
    "\n",
    "    #test\n",
    "    correct = 0\n",
    "    total = 0\n",
    "    with torch.no_grad():\n",
    "        for data in testloader:\n",
    "            images, labels = data\n",
    "\n",
    "            images = images.view(images.size(0), 1, 64, 32)\n",
    "            images = images.float()\n",
    "\n",
    "            if use_gpu:\n",
    "                if torch.cuda.is_available():\n",
    "                    images, labels = images.to(device), labels.to(device)\n",
    "            \n",
    "            output = net(images)\n",
    "            _, predicted = torch.max(outputs.data, 1)\n",
    "            total += labels.size(0)\n",
    "            #correct += (predicted == labels).sum().item()\n",
    "    \n",
    "    acc1 = (correct/total) * 100\n",
    "    print(\"Accuracy test: \", acc1)\n",
    "    test_accuracy.append(acc1)\n",
    "       \n",
    "    #train test\n",
    "    correct = 0\n",
    "    total = 0\n",
    "    with torch.no_grad():\n",
    "        for data in trainloader:\n",
    "            images, labels = data\n",
    "\n",
    "            images = images.view(images.size(0), 1, 64, 32)\n",
    "            images = images.float()\n",
    "\n",
    "            if use_gpu:\n",
    "                if torch.cuda.is_available():\n",
    "                    images, labels = images.to(device), labels.to(device)\n",
    "            \n",
    "            output = net(images)\n",
    "            _, predicted = torch.max(outputs.data, 1)\n",
    "            total += labels.size(0)\n",
    "            #correct += (predicted == labels).sum().item()\n",
    "    \n",
    "    acc2 = (correct/total) * 100\n",
    "    print(\"Accuracy train: \", acc2)\n",
    "    train_accuracy.append(acc2)\n",
    "\n",
    "print(\"Train is done.\")\n",
    "\n",
    "end_time = time.time()\n",
    "process_time = end_time - start_time / 60\n",
    "print(\"Process Time: \", process_time)"
   ]
  }
 ],
 "metadata": {
  "interpreter": {
   "hash": "9a41f622eef1e1121d138b235322f0564aa0f6257b03c3b9f8c89c84a20d8a00"
  },
  "kernelspec": {
   "display_name": "Python 3.8.0 64-bit",
   "language": "python",
   "name": "python3"
  },
  "language_info": {
   "codemirror_mode": {
    "name": "ipython",
    "version": 3
   },
   "file_extension": ".py",
   "mimetype": "text/x-python",
   "name": "python",
   "nbconvert_exporter": "python",
   "pygments_lexer": "ipython3",
   "version": "3.8.0"
  }
 },
 "nbformat": 4,
 "nbformat_minor": 5
}
