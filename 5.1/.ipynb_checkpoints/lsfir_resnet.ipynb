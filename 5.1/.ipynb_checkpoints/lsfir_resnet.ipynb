{
 "cells": [
  {
   "cell_type": "code",
   "execution_count": 1,
   "metadata": {},
   "outputs": [],
   "source": [
    "import torch\n",
    "import torch.nn as nn\n",
    "from PIL import Image\n",
    "import matplotlib.pyplot as plt\n",
    "import numpy as np\n",
    "import os\n",
    "import torch.utils.data\n"
   ]
  },
  {
   "cell_type": "code",
   "execution_count": 2,
   "metadata": {},
   "outputs": [
    {
     "name": "stdout",
     "output_type": "stream",
     "text": [
      "cuda:0\n"
     ]
    }
   ],
   "source": [
    "#device config \n",
    "device = torch.device(\"cuda:0\" if torch.cuda.is_available() else \"cpu\")\n",
    "print(device)"
   ]
  },
  {
   "cell_type": "code",
   "execution_count": 4,
   "metadata": {},
   "outputs": [
    {
     "name": "stdout",
     "output_type": "stream",
     "text": [
      "x_train_negative_tensor:  torch.Size([42000, 2048])\n",
      "y_train_negative_tensor:  torch.Size([42000])\n",
      "x_train_positive_tensor:  torch.Size([10000, 2048])\n",
      "y_train_positive_tensor:  torch.Size([10000])\n",
      "x_train:  torch.Size([52000, 2048])\n",
      "y_train:  torch.Size([52000])\n"
     ]
    }
   ],
   "source": [
    "#reading images\n",
    "def read_images(path, num_img):\n",
    "    array = np.zeros([num_img, 64*32])\n",
    "    i = 0\n",
    "    for img in os.listdir(path):\n",
    "        img_path = path + \"\\\\\" + img\n",
    "        img = Image.open(img_path, mode=\"r\")\n",
    "        data = np.asarray(img, dtype=\"uint8\")\n",
    "        data = data.flatten()\n",
    "        array[i, :] = data\n",
    "        i += 1\n",
    "    \n",
    "    return array\n",
    "\n",
    "#negatives\n",
    "train_negative_path = r\"C:\\Users\\yagiz\\Desktop\\data\\LSIFIR\\Classification\\Train\\neg\"\n",
    "num_train_negative_img = 43390\n",
    "train_negative_array = read_images(train_negative_path, num_train_negative_img)\n",
    "x_train_negative_tensor = torch.from_numpy(train_negative_array[:42000, :])\n",
    "print(\"x_train_negative_tensor: \", x_train_negative_tensor.size())\n",
    "y_train_negative_tensor = torch.zeros(42000, dtype=torch.long)\n",
    "print(\"y_train_negative_tensor: \", y_train_negative_tensor.size())\n",
    "\n",
    "#positives\n",
    "train_positive_path = r\"C:\\Users\\yagiz\\Desktop\\data\\LSIFIR\\Classification\\Train\\pos\"\n",
    "num_train_positive_img = 10208\n",
    "train_positive_array = read_images(train_positive_path, num_train_positive_img)\n",
    "x_train_positive_tensor = torch.from_numpy(train_positive_array[:10000,:])\n",
    "print(\"x_train_positive_tensor: \", x_train_positive_tensor.size())\n",
    "y_train_positive_tensor = torch.ones(10000, dtype=torch.long)\n",
    "print(\"y_train_positive_tensor: \", y_train_positive_tensor.size())\n",
    "\n",
    "#concating train datasets\n",
    "x_train = torch.cat((x_train_negative_tensor, x_train_positive_tensor), 0)\n",
    "y_train = torch.cat((y_train_negative_tensor, y_train_positive_tensor), 0)\n",
    "print(\"x_train: \", x_train.size())\n",
    "print(\"y_train: \", y_train.size())\n",
    "\n"
   ]
  },
  {
   "cell_type": "code",
   "execution_count": 7,
   "metadata": {},
   "outputs": [
    {
     "name": "stdout",
     "output_type": "stream",
     "text": [
      "x_test_negative_tensor:  torch.Size([18056, 2048])\n",
      "y_test_negative_tensor:  torch.Size([18056])\n",
      "x_test_positive_tensor:  torch.Size([5944, 2048])\n",
      "y_test_positive_tensor:  torch.Size([5944])\n",
      "x_test:  torch.Size([24000, 2048])\n",
      "y_test:  torch.Size([24000])\n"
     ]
    }
   ],
   "source": [
    "#reading test negative images\n",
    "test_negative_path = r\"C:\\Users\\yagiz\\Desktop\\data\\LSIFIR\\Classification\\Test\\neg\"\n",
    "num_test_negative_img = 22050\n",
    "test_negative_array = read_images(test_negative_path, num_test_negative_img)\n",
    "x_test_negative_tensor = torch.tensor(test_negative_array[:18056, :])\n",
    "print(\"x_test_negative_tensor: \", x_test_negative_tensor.size())\n",
    "y_test_negative_tensor = torch.zeros(18056, dtype=torch.long)\n",
    "print(\"y_test_negative_tensor: \", y_test_negative_tensor.size())\n",
    "\n",
    "#reading test positive images\n",
    "test_positive_path = r\"C:\\Users\\yagiz\\Desktop\\data\\LSIFIR\\Classification\\Test\\pos\"\n",
    "num_test_positive_img = 5944\n",
    "test_positive_array = read_images(test_positive_path, num_test_positive_img)\n",
    "x_test_positive_tensor = torch.from_numpy(test_positive_array)\n",
    "print(\"x_test_positive_tensor: \", x_test_positive_tensor.size())\n",
    "y_test_positive_tensor = torch.ones(num_test_positive_img, dtype=torch.long)\n",
    "print(\"y_test_positive_tensor: \", y_test_positive_tensor.size())\n",
    "\n",
    "#concat test\n",
    "x_test = torch.cat((x_test_negative_tensor, x_test_positive_tensor), 0)\n",
    "y_test = torch.cat((y_test_negative_tensor, y_test_positive_tensor), 0)\n",
    "print(\"x_test: \", x_test.size())\n",
    "print(\"y_test: \", y_test.size())\n"
   ]
  },
  {
   "cell_type": "code",
   "execution_count": 8,
   "metadata": {},
   "outputs": [
    {
     "data": {
      "text/plain": [
       "<matplotlib.image.AxesImage at 0x17256863df0>"
      ]
     },
     "execution_count": 8,
     "metadata": {},
     "output_type": "execute_result"
    },
    {
     "data": {
      "image/png": "[encoded data removed]",
      "text/plain": [
       "<Figure size 432x288 with 1 Axes>"
      ]
     },
     "metadata": {
      "needs_background": "light"
     },
     "output_type": "display_data"
    }
   ],
   "source": [
    "#visualizing\n",
    "plt.imshow(x_train[18001, :].reshape(64,32), cmap= \"gray\")"
   ]
  },
  {
   "cell_type": "code",
   "execution_count": 9,
   "metadata": {},
   "outputs": [],
   "source": [
    "#hyper parameters\n",
    "num_epochs = 100\n",
    "num_classes = 2\n",
    "batch_size = 2000\n",
    "learning_rate = 0.0001\n"
   ]
  },
  {
   "cell_type": "code",
   "execution_count": null,
   "metadata": {},
   "outputs": [],
   "source": [
    "train = torch.utils.data.TensorDataset(x_train, y_train)\n",
    "trainloader = torch.utils.data.DataLoader(train, batch_size=batch_size, shuffle=True)\n",
    "\n",
    "test = torch.utils.data.TensorDataset(x_test, y_test)\n",
    "testloader = torch.utils.data.DataLoader(test, batch_size=batch_size, shuffle=False)"
   ]
  }
 ],
 "metadata": {
  "interpreter": {
   "hash": "9a41f622eef1e1121d138b235322f0564aa0f6257b03c3b9f8c89c84a20d8a00"
  },
  "kernelspec": {
   "display_name": "Python 3.8.0 64-bit",
   "language": "python",
   "name": "python3"
  },
  "language_info": {
   "codemirror_mode": {
    "name": "ipython",
    "version": 3
   },
   "file_extension": ".py",
   "mimetype": "text/x-python",
   "name": "python",
   "nbconvert_exporter": "python",
   "pygments_lexer": "ipython3",
   "version": "3.8.0"
  },
  "orig_nbformat": 4
 },
 "nbformat": 4,
 "nbformat_minor": 2
}
