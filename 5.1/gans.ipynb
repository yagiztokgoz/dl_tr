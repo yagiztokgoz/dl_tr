{
 "cells": [
  {
   "cell_type": "code",
   "execution_count": 22,
   "metadata": {},
   "outputs": [],
   "source": [
    "from keras.layers import Dense, Dropout, Input, ReLU\n",
    "from keras.models import Model, Sequential\n",
    "from tensorflow.keras.optimizers import Adam\n",
    "from keras.datasets import mnist\n",
    "import numpy as np\n",
    "import matplotlib.pyplot as plt"
   ]
  },
  {
   "cell_type": "code",
   "execution_count": 3,
   "metadata": {},
   "outputs": [],
   "source": [
    "(x_train, y_train), (x_test, y_test)=mnist.load_data()"
   ]
  },
  {
   "cell_type": "code",
   "execution_count": 13,
   "metadata": {},
   "outputs": [
    {
     "name": "stdout",
     "output_type": "stream",
     "text": [
      "(60000, 784)\n",
      "(60000, 784)\n"
     ]
    }
   ],
   "source": [
    "\n",
    "x_train = (x_train.astype(np.float32) -127.5) / 127.5\n",
    "print(x_train.shape)\n"
   ]
  },
  {
   "cell_type": "code",
   "execution_count": 17,
   "metadata": {},
   "outputs": [
    {
     "name": "stdout",
     "output_type": "stream",
     "text": [
      "(10000, 28, 28)\n"
     ]
    },
    {
     "data": {
      "image/png": "[encoded data removed]",
      "text/plain": [
       "<Figure size 432x288 with 1 Axes>"
      ]
     },
     "metadata": {
      "needs_background": "light"
     },
     "output_type": "display_data"
    }
   ],
   "source": [
    "plt.imshow(x_test[12])\n",
    "print(x_test.shape)"
   ]
  },
  {
   "cell_type": "code",
   "execution_count": 27,
   "metadata": {},
   "outputs": [],
   "source": [
    "#creating generator\n",
    "def create_generator():\n",
    "    generator = Sequential()\n",
    "\n",
    "    generator.add(Dense(units= 512, input_dim = 100))\n",
    "    generator.add(ReLU())\n",
    "\n",
    "    generator.add(Dense(units= 512))\n",
    "    generator.add(ReLU())\n",
    "\n",
    "    generator.add(Dense(units= 1024))\n",
    "    generator.add(ReLU())\n",
    "\n",
    "\n",
    "    generator.add(Dense(units= 784, activation = \"tanh\"))\n",
    "\n",
    "    generator.compile(loss = \"binary_crossentropy\",\n",
    "                    optimizer = Adam(learning_rate=0.0001, beta_1=0.5))\n",
    "\n",
    "    return generator"
   ]
  },
  {
   "cell_type": "code",
   "execution_count": 28,
   "metadata": {},
   "outputs": [
    {
     "name": "stdout",
     "output_type": "stream",
     "text": [
      "Model: \"sequential_3\"\n",
      "_________________________________________________________________\n",
      "Layer (type)                 Output Shape              Param #   \n",
      "=================================================================\n",
      "dense_6 (Dense)              (None, 512)               51712     \n",
      "_________________________________________________________________\n",
      "re_lu_3 (ReLU)               (None, 512)               0         \n",
      "_________________________________________________________________\n",
      "dense_7 (Dense)              (None, 512)               262656    \n",
      "_________________________________________________________________\n",
      "re_lu_4 (ReLU)               (None, 512)               0         \n",
      "_________________________________________________________________\n",
      "dense_8 (Dense)              (None, 1024)              525312    \n",
      "_________________________________________________________________\n",
      "re_lu_5 (ReLU)               (None, 1024)              0         \n",
      "_________________________________________________________________\n",
      "dense_9 (Dense)              (None, 784)               803600    \n",
      "=================================================================\n",
      "Total params: 1,643,280\n",
      "Trainable params: 1,643,280\n",
      "Non-trainable params: 0\n",
      "_________________________________________________________________\n"
     ]
    }
   ],
   "source": [
    "g = create_generator()\n",
    "g.summary()"
   ]
  },
  {
   "cell_type": "code",
   "execution_count": 30,
   "metadata": {},
   "outputs": [],
   "source": [
    "def create_discriminator():\n",
    "    discriminator = Sequential()\n",
    "\n",
    "    discriminator.add(Dense(units=1024, input_dim = 784))\n",
    "    discriminator.add(ReLU())\n",
    "    discriminator.add(Dropout(0.4))\n",
    "\n",
    "    discriminator.add(Dense(units=512))\n",
    "    discriminator.add(ReLU())\n",
    "    discriminator.add(Dropout(0.4))\n",
    "\n",
    "    discriminator.add(Dense(units=256))\n",
    "    discriminator.add(ReLU())\n",
    "    discriminator.add(Dropout(0.4))\n",
    "\n",
    "    discriminator.add(Dense(units=1, activation=\"sigmoid\"))\n",
    "\n",
    "    discriminator.compile(loss = \"binary_crossentropy\", optimizer= Adam(learning_rate=0.0001, beta_1=0.5))\n",
    "\n",
    "    return discriminator"
   ]
  },
  {
   "cell_type": "code",
   "execution_count": 31,
   "metadata": {},
   "outputs": [
    {
     "name": "stdout",
     "output_type": "stream",
     "text": [
      "Model: \"sequential_4\"\n",
      "_________________________________________________________________\n",
      "Layer (type)                 Output Shape              Param #   \n",
      "=================================================================\n",
      "dense_10 (Dense)             (None, 1024)              803840    \n",
      "_________________________________________________________________\n",
      "re_lu_6 (ReLU)               (None, 1024)              0         \n",
      "_________________________________________________________________\n",
      "dropout (Dropout)            (None, 1024)              0         \n",
      "_________________________________________________________________\n",
      "dense_11 (Dense)             (None, 512)               524800    \n",
      "_________________________________________________________________\n",
      "re_lu_7 (ReLU)               (None, 512)               0         \n",
      "_________________________________________________________________\n",
      "dropout_1 (Dropout)          (None, 512)               0         \n",
      "_________________________________________________________________\n",
      "dense_12 (Dense)             (None, 256)               131328    \n",
      "_________________________________________________________________\n",
      "re_lu_8 (ReLU)               (None, 256)               0         \n",
      "_________________________________________________________________\n",
      "dropout_2 (Dropout)          (None, 256)               0         \n",
      "_________________________________________________________________\n",
      "dense_13 (Dense)             (None, 1)                 257       \n",
      "=================================================================\n",
      "Total params: 1,460,225\n",
      "Trainable params: 1,460,225\n",
      "Non-trainable params: 0\n",
      "_________________________________________________________________\n"
     ]
    }
   ],
   "source": [
    "d = create_discriminator()\n",
    "d.summary()"
   ]
  },
  {
   "cell_type": "code",
   "execution_count": 32,
   "metadata": {},
   "outputs": [],
   "source": [
    "def create_gan(discriminator, generator):\n",
    "    discriminator.trainable = False\n",
    "    gan_input = Input(shape=(100, ))\n",
    "\n",
    "    x = generator(gan_input)\n",
    "    gan_output = discriminator(x)\n",
    "\n",
    "    gan = Model(inputs = gan_input, outputs = gan_output)\n",
    "\n",
    "    gan.compile(loss=\"binary_crossentropy\", optimizer=\"adam\")\n",
    "\n",
    "    return gan"
   ]
  },
  {
   "cell_type": "code",
   "execution_count": 34,
   "metadata": {},
   "outputs": [
    {
     "name": "stdout",
     "output_type": "stream",
     "text": [
      "Model: \"model_1\"\n",
      "_________________________________________________________________\n",
      "Layer (type)                 Output Shape              Param #   \n",
      "=================================================================\n",
      "input_2 (InputLayer)         [(None, 100)]             0         \n",
      "_________________________________________________________________\n",
      "sequential_3 (Sequential)    (None, 784)               1643280   \n",
      "_________________________________________________________________\n",
      "sequential_4 (Sequential)    (None, 1)                 1460225   \n",
      "=================================================================\n",
      "Total params: 3,103,505\n",
      "Trainable params: 1,643,280\n",
      "Non-trainable params: 1,460,225\n",
      "_________________________________________________________________\n"
     ]
    }
   ],
   "source": [
    "gan = create_gan(d, g)\n",
    "gan.summary()"
   ]
  },
  {
   "cell_type": "code",
   "execution_count": 45,
   "metadata": {},
   "outputs": [
    {
     "name": "stdout",
     "output_type": "stream",
     "text": [
      "epochs:  0\n",
      "epochs:  1\n",
      "epochs:  2\n",
      "epochs:  3\n",
      "epochs:  4\n",
      "epochs:  5\n",
      "epochs:  6\n",
      "epochs:  7\n",
      "epochs:  8\n",
      "epochs:  9\n",
      "epochs:  10\n",
      "epochs:  11\n",
      "epochs:  12\n",
      "epochs:  13\n",
      "epochs:  14\n",
      "epochs:  15\n",
      "epochs:  16\n",
      "epochs:  17\n",
      "epochs:  18\n",
      "epochs:  19\n",
      "epochs:  20\n",
      "epochs:  21\n",
      "epochs:  22\n",
      "epochs:  23\n",
      "epochs:  24\n",
      "epochs:  25\n",
      "epochs:  26\n",
      "epochs:  27\n",
      "epochs:  28\n",
      "epochs:  29\n",
      "epochs:  30\n",
      "epochs:  31\n",
      "epochs:  32\n",
      "epochs:  33\n",
      "epochs:  34\n",
      "epochs:  35\n",
      "epochs:  36\n",
      "epochs:  37\n",
      "epochs:  38\n",
      "epochs:  39\n",
      "epochs:  40\n",
      "epochs:  41\n",
      "epochs:  42\n",
      "epochs:  43\n",
      "epochs:  44\n",
      "epochs:  45\n",
      "epochs:  46\n",
      "epochs:  47\n",
      "epochs:  48\n",
      "epochs:  49\n"
     ]
    }
   ],
   "source": [
    "#training\n",
    "\n",
    "epochs = 50\n",
    "batch_size = 256\n",
    "\n",
    "for epoch in range(epochs):\n",
    "    \n",
    "    for _ in range(batch_size):\n",
    "\n",
    "\n",
    "        noise = np.random.normal(0,1, [batch_size, 100])\n",
    "\n",
    "        generated_images = g.predict(noise)\n",
    "\n",
    "        image_batch = x_train[np.random.randint(low = 0, high = x_train.shape[0], size = batch_size)]\n",
    "        \n",
    "\n",
    "        x = np.concatenate([image_batch, generated_images])\n",
    "\n",
    "        y_dis = np.zeros(batch_size * 2)\n",
    "        y_dis[:batch_size] = 1\n",
    "\n",
    "        d.trainable = True\n",
    "        d.train_on_batch(x, y_dis)\n",
    "\n",
    "        noise = np.random.normal(0, 1, [batch_size, 100])\n",
    "\n",
    "        y_gen = np.ones(batch_size)\n",
    "\n",
    "        d.trainable = False\n",
    "\n",
    "        gan.train_on_batch(noise, y_gen)\n",
    "    print(\"epochs: \", epoch)\n"
   ]
  },
  {
   "cell_type": "code",
   "execution_count": 46,
   "metadata": {},
   "outputs": [],
   "source": [
    "g.save_weights(\"gans_model.h5\")"
   ]
  },
  {
   "cell_type": "code",
   "execution_count": 79,
   "metadata": {},
   "outputs": [],
   "source": [
    "noise = np.random.normal(loc=0, scale=1, size = [100, 100])\n",
    "generated_images = g.predict(noise)\n",
    "generated_images = generated_images.reshape(100, 28, 28)"
   ]
  },
  {
   "cell_type": "code",
   "execution_count": 85,
   "metadata": {},
   "outputs": [
    {
     "data": {
      "image/png": "[encoded data removed]",
      "text/plain": [
       "<Figure size 432x288 with 1 Axes>"
      ]
     },
     "metadata": {
      "needs_background": "light"
     },
     "output_type": "display_data"
    }
   ],
   "source": [
    "plt.imshow(generated_images[47])\n",
    "plt.axis(\"off\")\n",
    "plt.show()"
   ]
  }
 ],
 "metadata": {
  "interpreter": {
   "hash": "d040ad31e1b351650939d1c9dd8953c63786ba26a4a5fade416d9b50501ad93d"
  },
  "kernelspec": {
   "display_name": "Python 3.8.5 ('base')",
   "language": "python",
   "name": "python3"
  },
  "language_info": {
   "codemirror_mode": {
    "name": "ipython",
    "version": 3
   },
   "file_extension": ".py",
   "mimetype": "text/x-python",
   "name": "python",
   "nbconvert_exporter": "python",
   "pygments_lexer": "ipython3",
   "version": "3.8.5"
  },
  "orig_nbformat": 4
 },
 "nbformat": 4,
 "nbformat_minor": 2
}
